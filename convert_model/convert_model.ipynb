{
 "cells": [
  {
   "cell_type": "code",
   "execution_count": 1,
   "metadata": {},
   "outputs": [
    {
     "name": "stderr",
     "output_type": "stream",
     "text": [
      "2022-10-22 22:52:32.644134: W tensorflow/stream_executor/platform/default/dso_loader.cc:64] Could not load dynamic library 'libcudart.so.11.0'; dlerror: libcudart.so.11.0: cannot open shared object file: No such file or directory; LD_LIBRARY_PATH: /root/.virtualenvs/tf_coral/lib/python3.8/site-packages/cv2/../../lib64::/opt/gurobi952/linux64/lib\n",
      "2022-10-22 22:52:32.644161: I tensorflow/stream_executor/cuda/cudart_stub.cc:29] Ignore above cudart dlerror if you do not have a GPU set up on your machine.\n"
     ]
    }
   ],
   "source": [
    "import time\n",
    "import random\n",
    "from pathlib import Path\n",
    "\n",
    "import cv2\n",
    "import numpy as np\n",
    "import matplotlib.pyplot as plt\n",
    "import tensorflow as tf\n",
    "\n",
    "from pycoral.utils.edgetpu import make_interpreter\n",
    "from pycoral.adapters import classify\n",
    "from pycoral.adapters import common\n",
    "\n",
    "import tflite_runtime.interpreter as tflite\n",
    "from imgaug import augmenters as img_aug\n",
    "\n",
    "from lane_navigation.image_augmentation import random_augment\n"
   ]
  },
  {
   "cell_type": "code",
   "execution_count": 2,
   "metadata": {},
   "outputs": [],
   "source": [
    "def my_imread(image_path):\n",
    "    image = cv2.imread(str(image_path))\n",
    "    # image = cv2.cvtColor(image, cv2.COLOR_BGR2RGB)\n",
    "    image = cv2.cvtColor(image, cv2.COLOR_BGR2YUV)\n",
    "    return image\n",
    "\n",
    "\n",
    "def img_preprocess(image):\n",
    "    height, _, _ = image.shape\n",
    "    image = image[\n",
    "        int(height / 2) :, :, :\n",
    "    ]  # remove top half of the image, as it is not relavant for lane following\n",
    "    image = cv2.cvtColor(\n",
    "        image, cv2.COLOR_RGB2YUV\n",
    "    )  # Nvidia model said it is best to use YUV color space\n",
    "    image = cv2.GaussianBlur(image, (3, 3), 0)\n",
    "    image = cv2.resize(image, (200, 66))  # input image size (200,66) Nvidia model\n",
    "    # image = image / 255 # normalizing, the processed image becomes black for some reason.  do we need this?\n",
    "    image = image.astype(np.uint8)\n",
    "    return image\n",
    "\n",
    "\n",
    "def image_data_generator(image_paths, batch_size, is_training):\n",
    "    while True:\n",
    "        batch_images = []\n",
    "        batch_steering_angles = []\n",
    "\n",
    "        for i in range(batch_size):\n",
    "            random_index = random.randint(0, len(image_paths) - 1)\n",
    "            image_path = image_paths[random_index]\n",
    "            image = my_imread(image_paths[random_index])\n",
    "            if is_training:\n",
    "                # training: augment image\n",
    "                image, steering_angle = random_augment(image, steering_angle)\n",
    "\n",
    "            image = img_preprocess(image)\n",
    "            batch_images.append(image)\n",
    "\n",
    "        yield np.asarray(batch_images)\n",
    "\n",
    "\n",
    "def set_input_tensor(interpreter, input):\n",
    "    input_details = interpreter.get_input_details()[0]\n",
    "    tensor_index = input_details[\"index\"]\n",
    "    input_tensor = interpreter.tensor(tensor_index)()\n",
    "    # Inputs for the TFLite model must be uint8, so we quantize our input data.\n",
    "    scale, zero_point = input_details[\"quantization\"]\n",
    "    quantized_input = np.uint8(input / scale + zero_point)\n",
    "    input_tensor[:, :, :] = quantized_input\n",
    "\n",
    "\n",
    "def predict_steer(interpreter, input):\n",
    "    set_input_tensor(interpreter, input)\n",
    "    interpreter.invoke()\n",
    "    output_details = interpreter.get_output_details()[0]\n",
    "    output = interpreter.get_tensor(output_details[\"index\"])\n",
    "    # Outputs from the TFLite model are uint8, so we dequantize the results:\n",
    "    scale, zero_point = output_details[\"quantization\"]\n",
    "    output = scale * (output - zero_point)\n",
    "    return output\n"
   ]
  },
  {
   "cell_type": "code",
   "execution_count": 4,
   "metadata": {},
   "outputs": [],
   "source": [
    "image_paths = []\n",
    "lab_dirs = list(Path(\"train_data_generation/data/drive_with_keypress/\").glob(\"*\"))\n",
    "for lab_dir in lab_dirs:\n",
    "    frame_paths = list(lab_dir.glob(\"*.png\"))\n",
    "    for frame_path in frame_paths:\n",
    "        image_paths.append(frame_path)\n",
    "image_paths.sort()\n"
   ]
  },
  {
   "cell_type": "code",
   "execution_count": 5,
   "metadata": {},
   "outputs": [
    {
     "name": "stderr",
     "output_type": "stream",
     "text": [
      "2022-10-22 22:52:33.818339: W tensorflow/stream_executor/platform/default/dso_loader.cc:64] Could not load dynamic library 'libcuda.so.1'; dlerror: libcuda.so.1: cannot open shared object file: No such file or directory; LD_LIBRARY_PATH: /root/.virtualenvs/tf_coral/lib/python3.8/site-packages/cv2/../../lib64::/opt/gurobi952/linux64/lib\n",
      "2022-10-22 22:52:33.818358: W tensorflow/stream_executor/cuda/cuda_driver.cc:269] failed call to cuInit: UNKNOWN ERROR (303)\n",
      "2022-10-22 22:52:33.818371: I tensorflow/stream_executor/cuda/cuda_diagnostics.cc:169] retrieving CUDA diagnostic information for host: Chunbuntu\n",
      "2022-10-22 22:52:33.818375: I tensorflow/stream_executor/cuda/cuda_diagnostics.cc:176] hostname: Chunbuntu\n",
      "2022-10-22 22:52:33.818440: I tensorflow/stream_executor/cuda/cuda_diagnostics.cc:200] libcuda reported version is: NOT_FOUND: was unable to find libcuda.so DSO loaded into this program\n",
      "2022-10-22 22:52:33.818464: I tensorflow/stream_executor/cuda/cuda_diagnostics.cc:204] kernel reported version is: 470.129.6\n",
      "2022-10-22 22:52:33.818601: I tensorflow/core/platform/cpu_feature_guard.cc:151] This TensorFlow binary is optimized with oneAPI Deep Neural Network Library (oneDNN) to use the following CPU instructions in performance-critical operations:  AVX2 FMA\n",
      "To enable them in other operations, rebuild TensorFlow with the appropriate compiler flags.\n"
     ]
    }
   ],
   "source": [
    "lane_nav_model_path = Path(\"lane_navigation/model/lane_navigation_final.h5\")\n",
    "lane_nav_model = tf.keras.models.load_model(lane_nav_model_path)\n"
   ]
  },
  {
   "cell_type": "code",
   "execution_count": 6,
   "metadata": {},
   "outputs": [
    {
     "name": "stderr",
     "output_type": "stream",
     "text": [
      "2022-10-22 22:52:34.131952: W tensorflow/python/util/util.cc:368] Sets are not currently considered sequences, but this may change in the future, so consider avoiding using them.\n"
     ]
    },
    {
     "name": "stdout",
     "output_type": "stream",
     "text": [
      "INFO:tensorflow:Assets written to: /tmp/tmpkwc8vzgq/assets\n"
     ]
    },
    {
     "name": "stderr",
     "output_type": "stream",
     "text": [
      "2022-10-22 22:52:34.885675: W tensorflow/compiler/mlir/lite/python/tf_tfl_flatbuffer_helpers.cc:363] Ignored output_format.\n",
      "2022-10-22 22:52:34.885701: W tensorflow/compiler/mlir/lite/python/tf_tfl_flatbuffer_helpers.cc:366] Ignored drop_control_dependency.\n",
      "2022-10-22 22:52:34.886133: I tensorflow/cc/saved_model/reader.cc:43] Reading SavedModel from: /tmp/tmpkwc8vzgq\n",
      "2022-10-22 22:52:34.887559: I tensorflow/cc/saved_model/reader.cc:107] Reading meta graph with tags { serve }\n",
      "2022-10-22 22:52:34.887571: I tensorflow/cc/saved_model/reader.cc:148] Reading SavedModel debug info (if present) from: /tmp/tmpkwc8vzgq\n",
      "2022-10-22 22:52:34.894874: I tensorflow/cc/saved_model/loader.cc:210] Restoring SavedModel bundle.\n",
      "2022-10-22 22:52:34.966074: I tensorflow/cc/saved_model/loader.cc:194] Running initialization op on SavedModel bundle at path: /tmp/tmpkwc8vzgq\n",
      "2022-10-22 22:52:34.979583: I tensorflow/cc/saved_model/loader.cc:283] SavedModel load for tags { serve }; Status: success: OK. Took 93452 microseconds.\n",
      "2022-10-22 22:52:34.995436: I tensorflow/compiler/mlir/tensorflow/utils/dump_mlir_util.cc:237] disabling MLIR crash reproducer, set env var `MLIR_CRASH_REPRODUCER_DIRECTORY` to enable.\n",
      "fully_quantize: 0, inference_type: 6, input_inference_type: 3, output_inference_type: 3\n"
     ]
    }
   ],
   "source": [
    "def representative_data_gen():\n",
    "    batch_size = 4\n",
    "    input_data = tf.cast(\n",
    "        next(image_data_generator(image_paths, batch_size, False)), dtype=tf.float32\n",
    "    )\n",
    "    yield [input_data]\n",
    "\n",
    "\n",
    "converter = tf.lite.TFLiteConverter.from_keras_model(lane_nav_model)\n",
    "converter.optimizations = [tf.lite.Optimize.DEFAULT]\n",
    "converter.representative_dataset = representative_data_gen\n",
    "converter.target_spec.supported_ops = [tf.lite.OpsSet.TFLITE_BUILTINS_INT8]\n",
    "converter.target_spec.supported_types = [tf.int8]\n",
    "converter.inference_input_type = tf.uint8\n",
    "converter.inference_output_type = tf.uint8\n",
    "\n",
    "lane_nav_tflite_model = converter.convert()\n",
    "\n",
    "with open(\"lane_navigation/model/lane_navigation_final.tflite\", \"wb\") as f:\n",
    "    f.write(lane_nav_tflite_model)\n"
   ]
  },
  {
   "cell_type": "code",
   "execution_count": 26,
   "metadata": {},
   "outputs": [
    {
     "data": {
      "text/plain": [
       "<matplotlib.image.AxesImage at 0x7f19402e6640>"
      ]
     },
     "execution_count": 26,
     "metadata": {},
     "output_type": "execute_result"
    },
    {
     "data": {
      "image/png": "[encoded data removed]",
      "text/plain": [
       "<Figure size 432x288 with 1 Axes>"
      ]
     },
     "metadata": {
      "needs_background": "light"
     },
     "output_type": "display_data"
    }
   ],
   "source": [
    "# image = cv2.imread(\n",
    "#     \"train_data_generation/data/drive_with_keypress/5/frame_000016_102.png\"\n",
    "# )\n",
    "# image = cv2.imread(\n",
    "#     \"train_data_generation/data/drive_with_keypress/8/frame_000027_60.png\"\n",
    "# )\n",
    "# image = cv2.imread(\n",
    "#     \"train_data_generation/data/drive_with_keypress/9/frame_000001_91.png\"\n",
    "# )\n",
    "image = cv2.imread(\n",
    "    \"train_data_generation/data/drive_with_keypress/10/frame_000039_75.png\"\n",
    ")\n",
    "\n",
    "image = cv2.cvtColor(image, cv2.COLOR_BGR2RGB)\n",
    "\n",
    "proc_image = np.asarray([img_preprocess(image)])\n",
    "\n",
    "plt.imshow(proc_image[0])\n"
   ]
  },
  {
   "cell_type": "code",
   "execution_count": 27,
   "metadata": {},
   "outputs": [
    {
     "data": {
      "text/plain": [
       "array([67.648506], dtype=float32)"
      ]
     },
     "execution_count": 27,
     "metadata": {},
     "output_type": "execute_result"
    }
   ],
   "source": [
    "lane_nav_model.predict(proc_image)[0]"
   ]
  },
  {
   "cell_type": "code",
   "execution_count": 30,
   "metadata": {},
   "outputs": [
    {
     "data": {
      "text/plain": [
       "array([[81.88934544]])"
      ]
     },
     "execution_count": 30,
     "metadata": {},
     "output_type": "execute_result"
    }
   ],
   "source": [
    "interpreter = tflite.Interpreter(\n",
    "    model_path=\"lane_navigation/model/lane_navigation_final.tflite\"\n",
    ")\n",
    "interpreter.allocate_tensors()\n",
    "\n",
    "predict_steer(interpreter, proc_image)\n"
   ]
  },
  {
   "cell_type": "code",
   "execution_count": 29,
   "metadata": {},
   "outputs": [
    {
     "data": {
      "text/plain": [
       "array([[62.60196963]])"
      ]
     },
     "execution_count": 29,
     "metadata": {},
     "output_type": "execute_result"
    }
   ],
   "source": [
    "interpreter = make_interpreter(\n",
    "    \"lane_navigation/model/lane_navigation_final_edgetpu.tflite\"\n",
    ")\n",
    "interpreter.allocate_tensors()\n",
    "\n",
    "predict_steer(interpreter, proc_image)\n"
   ]
  },
  {
   "cell_type": "code",
   "execution_count": null,
   "metadata": {},
   "outputs": [],
   "source": []
  }
 ],
 "metadata": {
  "kernelspec": {
   "display_name": "Python 3.8.10 ('tf_coral')",
   "language": "python",
   "name": "python3"
  },
  "language_info": {
   "codemirror_mode": {
    "name": "ipython",
    "version": 3
   },
   "file_extension": ".py",
   "mimetype": "text/x-python",
   "name": "python",
   "nbconvert_exporter": "python",
   "pygments_lexer": "ipython3",
   "version": "3.8.10"
  },
  "orig_nbformat": 4,
  "vscode": {
   "interpreter": {
    "hash": "c45dd15ca332e50a83ca69c221c3167dbe2f5e61615061c146cddebbcf16ac7b"
   }
  }
 },
 "nbformat": 4,
 "nbformat_minor": 2
}
