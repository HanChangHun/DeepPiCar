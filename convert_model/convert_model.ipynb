{
 "cells": [
  {
   "cell_type": "code",
   "execution_count": 1,
   "metadata": {},
   "outputs": [
    {
     "name": "stderr",
     "output_type": "stream",
     "text": [
      "2022-10-22 16:29:56.291616: W tensorflow/stream_executor/platform/default/dso_loader.cc:64] Could not load dynamic library 'libcudart.so.11.0'; dlerror: libcudart.so.11.0: cannot open shared object file: No such file or directory; LD_LIBRARY_PATH: :/opt/gurobi952/linux64/lib\n",
      "2022-10-22 16:29:56.291638: I tensorflow/stream_executor/cuda/cudart_stub.cc:29] Ignore above cudart dlerror if you do not have a GPU set up on your machine.\n"
     ]
    }
   ],
   "source": [
    "import tensorflow as tf"
   ]
  },
  {
   "cell_type": "code",
   "execution_count": 2,
   "metadata": {},
   "outputs": [],
   "source": [
    "from pathlib import Path\n",
    "\n",
    "lane_nav_model_path = Path(\"lane_navigation/model/lane_navigation_final.h5\")"
   ]
  },
  {
   "cell_type": "code",
   "execution_count": 4,
   "metadata": {},
   "outputs": [],
   "source": [
    "lane_nav_model = tf.keras.models.load_model(lane_nav_model_path)"
   ]
  },
  {
   "cell_type": "code",
   "execution_count": 12,
   "metadata": {},
   "outputs": [],
   "source": [
    "import numpy as np"
   ]
  },
  {
   "cell_type": "code",
   "execution_count": 15,
   "metadata": {},
   "outputs": [],
   "source": [
    "def representative_data_gen():\n",
    "    train_images = np.zeros((100, 66, 200, 3), dtype=np.float32)\n",
    "    for input_value in (\n",
    "        tf.data.Dataset.from_tensor_slices(train_images).batch(1).take(1)\n",
    "    ):\n",
    "        yield [input_value]\n",
    "\n",
    "converter = tf.lite.TFLiteConverter.from_keras_model(lane_nav_model)\n",
    "converter.optimizations = [tf.lite.Optimize.DEFAULT]\n",
    "converter.representative_dataset = representative_data_gen\n",
    "converter.target_spec.supported_ops = [tf.lite.OpsSet.TFLITE_BUILTINS_INT8]\n",
    "converter.inference_input_type = tf.uint8\n",
    "converter.inference_output_type = tf.uint8"
   ]
  },
  {
   "cell_type": "code",
   "execution_count": 16,
   "metadata": {},
   "outputs": [
    {
     "name": "stdout",
     "output_type": "stream",
     "text": [
      "INFO:tensorflow:Assets written to: /tmp/tmp0ig8gapq/assets\n"
     ]
    },
    {
     "name": "stderr",
     "output_type": "stream",
     "text": [
      "INFO:tensorflow:Assets written to: /tmp/tmp0ig8gapq/assets\n",
      "2022-10-22 16:44:07.137995: W tensorflow/compiler/mlir/lite/python/tf_tfl_flatbuffer_helpers.cc:363] Ignored output_format.\n",
      "2022-10-22 16:44:07.138021: W tensorflow/compiler/mlir/lite/python/tf_tfl_flatbuffer_helpers.cc:366] Ignored drop_control_dependency.\n",
      "2022-10-22 16:44:07.138151: I tensorflow/cc/saved_model/reader.cc:43] Reading SavedModel from: /tmp/tmp0ig8gapq\n",
      "2022-10-22 16:44:07.139524: I tensorflow/cc/saved_model/reader.cc:107] Reading meta graph with tags { serve }\n",
      "2022-10-22 16:44:07.139535: I tensorflow/cc/saved_model/reader.cc:148] Reading SavedModel debug info (if present) from: /tmp/tmp0ig8gapq\n",
      "2022-10-22 16:44:07.143922: I tensorflow/cc/saved_model/loader.cc:210] Restoring SavedModel bundle.\n",
      "2022-10-22 16:44:07.191445: I tensorflow/cc/saved_model/loader.cc:194] Running initialization op on SavedModel bundle at path: /tmp/tmp0ig8gapq\n",
      "2022-10-22 16:44:07.204668: I tensorflow/cc/saved_model/loader.cc:283] SavedModel load for tags { serve }; Status: success: OK. Took 66519 microseconds.\n",
      "fully_quantize: 0, inference_type: 6, input_inference_type: 3, output_inference_type: 3\n"
     ]
    }
   ],
   "source": [
    "lane_nav_tflite_model = converter.convert()"
   ]
  },
  {
   "cell_type": "code",
   "execution_count": 17,
   "metadata": {},
   "outputs": [],
   "source": [
    "with tf.io.gfile.GFile(\"lane_navigation/model/lane_navigation_final.tflite\", \"wb\") as f:\n",
    "    f.write(lane_nav_tflite_model)"
   ]
  },
  {
   "cell_type": "code",
   "execution_count": 18,
   "metadata": {},
   "outputs": [],
   "source": [
    "import tflite_runtime.interpreter as tflite\n",
    "\n",
    "interpreter = tflite.Interpreter(model_path=\"lane_navigation/model/lane_navigation_final.tflite\")"
   ]
  },
  {
   "cell_type": "code",
   "execution_count": 19,
   "metadata": {},
   "outputs": [],
   "source": [
    "import time"
   ]
  },
  {
   "cell_type": "code",
   "execution_count": 20,
   "metadata": {},
   "outputs": [
    {
     "name": "stdout",
     "output_type": "stream",
     "text": [
      "19.231311976909637\n",
      "1.9459547474980354\n",
      "1.9005900248885155\n",
      "1.9058799371123314\n",
      "1.894078217446804\n"
     ]
    }
   ],
   "source": [
    "interpreter.allocate_tensors()\n",
    "\n",
    "for _ in range(5):\n",
    "    st = time.perf_counter()\n",
    "    interpreter.invoke()\n",
    "    dur = (time.perf_counter() - st) * 1000\n",
    "    print(dur)\n",
    "    "
   ]
  },
  {
   "cell_type": "code",
   "execution_count": 22,
   "metadata": {},
   "outputs": [
    {
     "name": "stdout",
     "output_type": "stream",
     "text": [
      "1.4542993158102036\n",
      "1.1226944625377655\n",
      "1.1065136641263962\n",
      "1.1104326695203781\n",
      "1.1090077459812164\n"
     ]
    }
   ],
   "source": [
    "from pycoral.utils.edgetpu import make_interpreter\n",
    "\n",
    "interpreter = make_interpreter(\"lane_navigation/model/lane_navigation_final_edgetpu.tflite\")\n",
    "interpreter.allocate_tensors()\n",
    "\n",
    "for _ in range(5):\n",
    "    st = time.perf_counter()\n",
    "    interpreter.invoke()\n",
    "    dur = (time.perf_counter() - st) * 1000\n",
    "    print(dur)\n",
    "    "
   ]
  },
  {
   "cell_type": "code",
   "execution_count": null,
   "metadata": {},
   "outputs": [],
   "source": []
  }
 ],
 "metadata": {
  "kernelspec": {
   "display_name": "Python 3.8.10 ('tf_coral')",
   "language": "python",
   "name": "python3"
  },
  "language_info": {
   "codemirror_mode": {
    "name": "ipython",
    "version": 3
   },
   "file_extension": ".py",
   "mimetype": "text/x-python",
   "name": "python",
   "nbconvert_exporter": "python",
   "pygments_lexer": "ipython3",
   "version": "3.8.10"
  },
  "orig_nbformat": 4,
  "vscode": {
   "interpreter": {
    "hash": "c45dd15ca332e50a83ca69c221c3167dbe2f5e61615061c146cddebbcf16ac7b"
   }
  }
 },
 "nbformat": 4,
 "nbformat_minor": 2
}
