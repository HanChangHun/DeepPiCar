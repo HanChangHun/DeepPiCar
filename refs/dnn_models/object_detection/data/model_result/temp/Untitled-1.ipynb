{
 "cells": [
  {
   "cell_type": "code",
   "execution_count": 10,
   "metadata": {},
   "outputs": [],
   "source": [
    "import time\n",
    "import numpy as np\n",
    "from PIL import Image\n",
    "from PIL import ImageDraw\n",
    "\n",
    "import tflite_runtime.interpreter as tflite\n",
    "\n",
    "from pycoral.adapters import common\n",
    "from pycoral.adapters import classify\n",
    "from pycoral.adapters import detect\n",
    "from pycoral.adapters.detect import BBox\n",
    "from pycoral.utils.dataset import read_label_file\n",
    "from pycoral.utils.edgetpu import make_interpreter\n",
    "\n",
    "from model_runner import ModelRunner\n",
    "\n",
    "image = Image.open(\"models/object_detection/data/images/train/2019-04-16-095702.jpg\")\n",
    "labels = read_label_file(\n",
    "    \"models/object_detection/data/model_result/road_sign_labels.txt\"\n",
    ")\n",
    "\n",
    "\n",
    "def draw_objects(draw, objs, labels):\n",
    "    \"\"\"Draws the bounding box and label for each object.\"\"\"\n",
    "    for obj in objs:\n",
    "        bbox = obj.bbox\n",
    "        draw.rectangle([(bbox.xmin, bbox.ymin), (bbox.xmax, bbox.ymax)], outline=\"red\")\n",
    "        draw.text(\n",
    "            (bbox.xmin + 10, bbox.ymin + 10),\n",
    "            \"%s\\n%.2f\" % (labels.get(obj.id, obj.id), obj.score),\n",
    "            fill=\"red\",\n",
    "        )\n"
   ]
  },
  {
   "cell_type": "code",
   "execution_count": 2,
   "metadata": {},
   "outputs": [
    {
     "name": "stdout",
     "output_type": "stream",
     "text": [
      "Red\n",
      "  id:     2\n",
      "  score:  0.95703125\n",
      "  bbox:   BBox(xmin=231, ymin=121, xmax=260, ymax=177)\n",
      "Limit 25\n",
      "  id:     3\n",
      "  score:  0.83984375\n",
      "  bbox:   BBox(xmin=338, ymin=125, xmax=370, ymax=171)\n",
      "Red\n",
      "  id:     2\n",
      "  score:  0.55859375\n",
      "  bbox:   BBox(xmin=421, ymin=128, xmax=450, ymax=183)\n",
      "Stop\n",
      "  id:     5\n",
      "  score:  0.5\n",
      "  bbox:   BBox(xmin=554, ymin=148, xmax=599, ymax=196)\n",
      "Green\n",
      "  id:     0\n",
      "  score:  0.328125\n",
      "  bbox:   BBox(xmin=18, ymin=133, xmax=52, ymax=197)\n"
     ]
    }
   ],
   "source": [
    "image = Image.open(\"models/object_detection/data/images/train/2019-04-16-095702.jpg\")\n",
    "\n",
    "interpreter = make_interpreter(\n",
    "    \"models/object_detection/data/model_result/road_signs_quantized_edgetpu.tflite\"\n",
    ")\n",
    "interpreter.allocate_tensors()\n",
    "_, scale = common.set_resized_input(\n",
    "      interpreter, image.size, lambda size: image.resize(size, Image.ANTIALIAS))\n",
    "\n",
    "interpreter.invoke()\n",
    "objs = detect.get_objects(interpreter, 0.3, scale)\n",
    "\n",
    "for obj in objs:\n",
    "    print(labels.get(obj.id, obj.id))\n",
    "    print('  id:    ', obj.id)\n",
    "    print('  score: ', obj.score)\n",
    "    print('  bbox:  ', obj.bbox)\n",
    "\n",
    "image = image.convert(\"RGB\")\n",
    "draw_objects(ImageDraw.Draw(image), objs, labels)\n",
    "image.save(\"models/object_detection/temp.jpg\")\n",
    "image.show()\n"
   ]
  },
  {
   "cell_type": "code",
   "execution_count": 100,
   "metadata": {},
   "outputs": [],
   "source": [
    "org_model_file = [\n",
    "    \"models/object_detection/data/model_result/road_signs_quantized_edgetpu.tflite\"\n",
    "]\n",
    "\n",
    "# seg_model_files = [\n",
    "#     \"models/object_detection/data/model_result/temp/tmp_models/road_signs_quantized_segment_0_of_2_edgetpu.tflite\",\n",
    "#     \"models/object_detection/data/model_result/temp/tmp_models/road_signs_quantized_segment_1_of_2_edgetpu.tflite\",\n",
    "# ]\n",
    "seg_model_files = [\n",
    "    \"models/object_detection/data/model_result/temp/tmp_models/road_signs_quantized_segment_0_of_3_edgetpu.tflite\",\n",
    "    \"models/object_detection/data/model_result/temp/tmp_models/road_signs_quantized_segment_1_of_3_edgetpu.tflite\",\n",
    "    \"models/object_detection/data/model_result/temp/tmp_models/road_signs_quantized_segment_2_of_3_edgetpu.tflite\",\n",
    "]\n",
    "# seg_model_files = [\n",
    "#     \"models/object_detection/data/model_result/temp/tmp_models/road_signs_quantized_segment_0_of_4_edgetpu.tflite\",\n",
    "#     \"models/object_detection/data/model_result/temp/tmp_models/road_signs_quantized_segment_1_of_4_edgetpu.tflite\",\n",
    "#     \"models/object_detection/data/model_result/temp/tmp_models/road_signs_quantized_segment_2_of_4_edgetpu.tflite\",\n",
    "#     \"models/object_detection/data/model_result/temp/tmp_models/road_signs_quantized_segment_3_of_4_edgetpu.tflite\",\n",
    "# ]\n"
   ]
  },
  {
   "cell_type": "code",
   "execution_count": 17,
   "metadata": {},
   "outputs": [
    {
     "name": "stdout",
     "output_type": "stream",
     "text": [
      "8.079741150140762\n",
      "Red\n",
      "  id:     2\n",
      "  score:  0.95703125\n",
      "  bbox:   BBox(xmin=231, ymin=121, xmax=260, ymax=177)\n",
      "Limit 25\n",
      "  id:     3\n",
      "  score:  0.83984375\n",
      "  bbox:   BBox(xmin=338, ymin=125, xmax=370, ymax=171)\n",
      "Red\n",
      "  id:     2\n",
      "  score:  0.55859375\n",
      "  bbox:   BBox(xmin=421, ymin=128, xmax=450, ymax=183)\n",
      "Stop\n",
      "  id:     5\n",
      "  score:  0.5\n",
      "  bbox:   BBox(xmin=554, ymin=148, xmax=599, ymax=196)\n",
      "Green\n",
      "  id:     0\n",
      "  score:  0.328125\n",
      "  bbox:   BBox(xmin=18, ymin=133, xmax=52, ymax=197)\n"
     ]
    }
   ],
   "source": [
    "image = Image.open(\"models/object_detection/data/images/train/2019-04-16-095702.jpg\")\n",
    "\n",
    "org_model_runner = ModelRunner(org_model_file)\n",
    "org_model_runner.allocate_tensors_all_interpreter()\n",
    "\n",
    "st = time.perf_counter()\n",
    "org_model_runner.invoke_all(task=\"detection\")\n",
    "objs = org_model_runner.get_objects(score_threshold=0.3)\n",
    "dur = (time.perf_counter() - st) * 1000\n",
    "print(dur)\n",
    "\n",
    "for obj in objs:\n",
    "    print(labels.get(obj.id, obj.id))\n",
    "    print('  id:    ', obj.id)\n",
    "    print('  score: ', obj.score)\n",
    "    print('  bbox:  ', obj.bbox)\n",
    "\n",
    "image = image.convert(\"RGB\")\n",
    "draw_objects(ImageDraw.Draw(image), objs, labels)\n",
    "image.save(\"models/object_detection/temp.jpg\")\n",
    "image.show()"
   ]
  },
  {
   "cell_type": "code",
   "execution_count": 115,
   "metadata": {},
   "outputs": [
    {
     "name": "stdout",
     "output_type": "stream",
     "text": [
      "---\n",
      "['FeatureExtractor/MobilenetV2/expanded_conv_16/depthwise/Relu6',\n",
      " 'BoxPredictor_0/Reshape_1',\n",
      " 'BoxPredictor_0/Reshape']\n",
      "---\n",
      "---\n",
      "['FeatureExtractor/MobilenetV2/expanded_conv_16/depthwise/Relu6',\n",
      " 'BoxPredictor_0/Reshape_1',\n",
      " 'BoxPredictor_0/Reshape',\n",
      " 'BoxPredictor_1/Reshape_1',\n",
      " 'BoxPredictor_1/Reshape',\n",
      " 'FeatureExtractor/MobilenetV2/layer_19_1_Conv2d_2_1x1_256/Relu6']\n",
      "---\n",
      "9.457970969378948\n",
      "Red\n",
      "  id:     2\n",
      "  score:  0.95703125\n",
      "  bbox:   BBox(xmin=231, ymin=121, xmax=260, ymax=177)\n",
      "Limit 25\n",
      "  id:     3\n",
      "  score:  0.83984375\n",
      "  bbox:   BBox(xmin=338, ymin=125, xmax=370, ymax=171)\n",
      "Red\n",
      "  id:     2\n",
      "  score:  0.55859375\n",
      "  bbox:   BBox(xmin=421, ymin=128, xmax=450, ymax=183)\n",
      "Stop\n",
      "  id:     5\n",
      "  score:  0.5\n",
      "  bbox:   BBox(xmin=554, ymin=148, xmax=599, ymax=196)\n",
      "Green\n",
      "  id:     0\n",
      "  score:  0.328125\n",
      "  bbox:   BBox(xmin=18, ymin=133, xmax=52, ymax=197)\n"
     ]
    }
   ],
   "source": [
    "image = Image.open(\"models/object_detection/data/images/train/2019-04-16-095702.jpg\")\n",
    "\n",
    "seg_model_runner = ModelRunner(seg_model_files)\n",
    "seg_model_runner.allocate_tensors_all_interpreter()\n",
    "\n",
    "st = time.perf_counter()\n",
    "seg_model_runner.invoke_all(task=\"detection\")\n",
    "objs = seg_model_runner.get_objects(score_threshold=0.3)\n",
    "dur = (time.perf_counter() - st) * 1000\n",
    "print(dur)\n",
    "\n",
    "for obj in objs:\n",
    "    print(labels.get(obj.id, obj.id))\n",
    "    print('  id:    ', obj.id)\n",
    "    print('  score: ', obj.score)\n",
    "    print('  bbox:  ', obj.bbox)\n",
    "\n",
    "image = image.convert(\"RGB\")\n",
    "draw_objects(ImageDraw.Draw(image), objs, labels)\n",
    "image.save(\"models/object_detection/temp.jpg\")\n",
    "image.show()"
   ]
  },
  {
   "cell_type": "code",
   "execution_count": 5,
   "metadata": {},
   "outputs": [],
   "source": []
  },
  {
   "cell_type": "code",
   "execution_count": 6,
   "metadata": {},
   "outputs": [],
   "source": [
    "\n",
    "\n"
   ]
  },
  {
   "cell_type": "code",
   "execution_count": null,
   "metadata": {},
   "outputs": [],
   "source": []
  }
 ],
 "metadata": {
  "kernelspec": {
   "display_name": "Python 3.8.10 64-bit",
   "language": "python",
   "name": "python3"
  },
  "language_info": {
   "codemirror_mode": {
    "name": "ipython",
    "version": 3
   },
   "file_extension": ".py",
   "mimetype": "text/x-python",
   "name": "python",
   "nbconvert_exporter": "python",
   "pygments_lexer": "ipython3",
   "version": "3.8.10"
  },
  "orig_nbformat": 4,
  "vscode": {
   "interpreter": {
    "hash": "31f2aee4e71d21fbe5cf8b01ff0e069b9275f58929596ceb00d14d90e3e16cd6"
   }
  }
 },
 "nbformat": 4,
 "nbformat_minor": 2
}
