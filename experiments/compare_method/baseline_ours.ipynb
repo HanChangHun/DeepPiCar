{
 "cells": [
  {
   "cell_type": "code",
   "execution_count": null,
   "metadata": {},
   "outputs": [],
   "source": [
    "from pprint import pprint\n",
    "\n",
    "import json\n",
    "import subprocess\n",
    "from pathlib import Path\n",
    "\n",
    "import numpy as np\n",
    "import cv2\n",
    "import cv2.aruco as aruco\n"
   ]
  },
  {
   "cell_type": "code",
   "execution_count": null,
   "metadata": {},
   "outputs": [],
   "source": [
    "from scipy import interpolate\n",
    "\n",
    "\n",
    "def fill_nan(A):\n",
    "    \"\"\"\n",
    "    interpolate to fill nan values\n",
    "    \"\"\"\n",
    "    inds = np.arange(A.shape[0])\n",
    "    good = np.where(np.isfinite(A))\n",
    "    f = interpolate.interp1d(inds[good], A[good], bounds_error=False)\n",
    "    B = np.where(np.isfinite(A), A, f(inds))\n",
    "    return B"
   ]
  },
  {
   "cell_type": "code",
   "execution_count": null,
   "metadata": {},
   "outputs": [],
   "source": [
    "data_dir = Path(\"drive/data\")\n",
    "baseline_dir = data_dir / \"baseline\"\n",
    "ours_dir = data_dir / \"ours\"\n",
    "base_data_dirs = list(baseline_dir.glob(\"*\"))\n",
    "ours_data_dirs = list(ours_dir.glob(\"*\"))\n"
   ]
  },
  {
   "cell_type": "markdown",
   "metadata": {},
   "source": [
    "## make visualization\n"
   ]
  },
  {
   "cell_type": "code",
   "execution_count": null,
   "metadata": {},
   "outputs": [],
   "source": [
    "for data_dir in base_data_dirs:\n",
    "    cmd = f\"python3 distance_estimation/distance_object_analysis.py -p {str(data_dir)}\"\n",
    "    result = subprocess.check_output(cmd, shell=True)\n"
   ]
  },
  {
   "cell_type": "code",
   "execution_count": null,
   "metadata": {},
   "outputs": [],
   "source": [
    "for data_dir in ours_data_dirs:\n",
    "    cmd = f\"python3 distance_estimation/distance_object_analysis.py -p {str(data_dir)}\"\n",
    "    result = subprocess.check_output(cmd, shell=True)\n"
   ]
  },
  {
   "cell_type": "markdown",
   "metadata": {},
   "source": [
    "## get distance & rect_size from video\n"
   ]
  },
  {
   "cell_type": "code",
   "execution_count": null,
   "metadata": {},
   "outputs": [],
   "source": [
    "width = 854\n",
    "height = 480\n",
    "marker_length = 0.1\n",
    "\n",
    "with open(\"distance_estimation/calibrationValues0.json\") as f:\n",
    "    cal_vals = json.load(f)\n",
    "cam_mtx = np.array(cal_vals[\"camera_matrix\"])\n",
    "distor_factor = np.array(cal_vals[\"dist_coeff\"])\n",
    "aruco_dict = aruco.Dictionary_get(cv2.aruco.DICT_4X4_250)\n"
   ]
  },
  {
   "cell_type": "markdown",
   "metadata": {},
   "source": [
    "### baseline\n"
   ]
  },
  {
   "cell_type": "code",
   "execution_count": null,
   "metadata": {},
   "outputs": [],
   "source": [
    "def get_distance(frame):\n",
    "    corners, ids, _ = aruco.detectMarkers(frame, aruco_dict)\n",
    "    rvec, tvec, _ = aruco.estimatePoseSingleMarkers(\n",
    "        corners, marker_length, cam_mtx, distor_factor\n",
    "    )\n",
    "    if ids is not None:\n",
    "        distance = tvec[0][0][2] * 100\n",
    "    else:\n",
    "        distance = np.nan\n",
    "    return distance"
   ]
  },
  {
   "cell_type": "code",
   "execution_count": 77,
   "metadata": {},
   "outputs": [],
   "source": [
    "def get_size_from_object_data(data):\n",
    "    if len(data) >= 1:\n",
    "        _, _, object = data[0]\n",
    "        xmin, ymin, xmax, ymax = object\n",
    "        return (xmax - xmin) * (ymax - ymin)\n",
    "    else:\n",
    "        return 0\n"
   ]
  },
  {
   "cell_type": "code",
   "execution_count": 84,
   "metadata": {},
   "outputs": [],
   "source": [
    "def get_stop_start_frame(object_data):\n",
    "    new_obj_data = {}\n",
    "    for d in object_data:\n",
    "        frame_cnt, obj = d.values()\n",
    "        new_obj_data[frame_cnt] = obj\n",
    "        if get_size_from_object_data(obj) >= 2000:\n",
    "            return frame_cnt\n"
   ]
  },
  {
   "cell_type": "code",
   "execution_count": 90,
   "metadata": {},
   "outputs": [
    {
     "name": "stdout",
     "output_type": "stream",
     "text": [
      "---- stop distance analysis ----\n",
      "mean: 108.92292972685314\n",
      "min: 72.82905103605648\n",
      "max: 161.28349599737314\n",
      "\n",
      "---- end distance analysis ----\n",
      "mean: 94.98008964836689\n",
      "min: 58.58506583270052\n",
      "max: 147.5446138515846\n",
      "\n"
     ]
    }
   ],
   "source": [
    "distance_lists = []\n",
    "stop_dist = []\n",
    "end_dist = []\n",
    "for data_dir in base_data_dirs:\n",
    "    distance_list = []\n",
    "    video_path = data_dir / \"video.avi\"\n",
    "    object_data_path = data_dir / \"objects.json\"\n",
    "    with open(object_data_path) as f:\n",
    "        object_data = json.load(f)\n",
    "\n",
    "    stop_frame = get_stop_start_frame(object_data)\n",
    "\n",
    "    cap = cv2.VideoCapture(str(video_path))\n",
    "    frame_cnt = 0\n",
    "    while cap.isOpened():\n",
    "        ret, frame = cap.read()\n",
    "        if ret:\n",
    "            distance = get_distance(frame)\n",
    "            distance_list.append(distance)\n",
    "\n",
    "            frame_cnt += 1\n",
    "        else:\n",
    "            break\n",
    "\n",
    "    distance_list = np.array(distance_list)\n",
    "    distance_list = fill_nan(distance_list)\n",
    "\n",
    "    stop_dist.append(distance_list[stop_frame])\n",
    "    end_dist.append(distance_list[-1])\n",
    "    # print(distance_list[stop_frame], distance_list[-1])\n",
    "\n",
    "    distance_lists.append(distance_list)\n",
    "\n",
    "print(\n",
    "    f\"---- stop distance analysis ----\\n\"\n",
    "    f\"mean: {np.mean(stop_dist)}\\n\"\n",
    "    f\"min: {min(stop_dist)}\\n\"\n",
    "    f\"max: {max(stop_dist)}\\n\"\n",
    ")\n",
    "print(\n",
    "    f\"---- end distance analysis ----\\n\"\n",
    "    f\"mean: {np.mean(end_dist)}\\n\"\n",
    "    f\"min: {min(end_dist)}\\n\"\n",
    "    f\"max: {max(end_dist)}\\n\"\n",
    ")\n"
   ]
  },
  {
   "cell_type": "markdown",
   "metadata": {},
   "source": [
    "### ours"
   ]
  },
  {
   "cell_type": "code",
   "execution_count": 91,
   "metadata": {},
   "outputs": [
    {
     "name": "stdout",
     "output_type": "stream",
     "text": [
      "---- stop distance analysis ----\n",
      "mean: 178.32329692756724\n",
      "min: 159.5264410845568\n",
      "max: 205.79469814975045\n",
      "\n",
      "---- end distance analysis ----\n",
      "mean: 160.50334720000572\n",
      "min: 143.1562351811378\n",
      "max: 188.01301491293157\n",
      "\n"
     ]
    }
   ],
   "source": [
    "distance_lists = []\n",
    "stop_dist = []\n",
    "end_dist = []\n",
    "for data_dir in ours_data_dirs:\n",
    "    distance_list = []\n",
    "    video_path = data_dir / \"video.avi\"\n",
    "    object_data_path = data_dir / \"objects.json\"\n",
    "    with open(object_data_path) as f:\n",
    "        object_data = json.load(f)\n",
    "        \n",
    "    stop_frame = get_stop_start_frame(object_data)\n",
    "\n",
    "    cap = cv2.VideoCapture(str(video_path))\n",
    "    frame_cnt = 0\n",
    "    while cap.isOpened():\n",
    "        ret, frame = cap.read()\n",
    "        if ret:\n",
    "            distance = get_distance(frame)\n",
    "            distance_list.append(distance)\n",
    "\n",
    "            frame_cnt += 1\n",
    "        else:\n",
    "            break\n",
    "\n",
    "    distance_list = np.array(distance_list)\n",
    "    distance_list = fill_nan(distance_list)\n",
    "    \n",
    "    stop_dist.append(distance_list[stop_frame])\n",
    "    end_dist.append(distance_list[-1])\n",
    "    # print(distance_list[stop_frame], distance_list[-1])\n",
    "\n",
    "    distance_lists.append(distance_list)\n",
    "    \n",
    "\n",
    "print(\n",
    "    f\"---- stop distance analysis ----\\n\"\n",
    "    f\"mean: {np.mean(stop_dist)}\\n\"\n",
    "    f\"min: {min(stop_dist)}\\n\"\n",
    "    f\"max: {max(stop_dist)}\\n\"\n",
    ")\n",
    "print(\n",
    "    f\"---- end distance analysis ----\\n\"\n",
    "    f\"mean: {np.mean(end_dist)}\\n\"\n",
    "    f\"min: {min(end_dist)}\\n\"\n",
    "    f\"max: {max(end_dist)}\\n\"\n",
    ")\n"
   ]
  },
  {
   "cell_type": "code",
   "execution_count": null,
   "metadata": {},
   "outputs": [],
   "source": []
  },
  {
   "cell_type": "code",
   "execution_count": null,
   "metadata": {},
   "outputs": [],
   "source": []
  },
  {
   "cell_type": "code",
   "execution_count": null,
   "metadata": {},
   "outputs": [],
   "source": []
  },
  {
   "cell_type": "code",
   "execution_count": null,
   "metadata": {},
   "outputs": [],
   "source": []
  }
 ],
 "metadata": {
  "kernelspec": {
   "display_name": "Python 3.8.10 64-bit",
   "language": "python",
   "name": "python3"
  },
  "language_info": {
   "codemirror_mode": {
    "name": "ipython",
    "version": 3
   },
   "file_extension": ".py",
   "mimetype": "text/x-python",
   "name": "python",
   "nbconvert_exporter": "python",
   "pygments_lexer": "ipython3",
   "version": "3.8.10"
  },
  "orig_nbformat": 4,
  "vscode": {
   "interpreter": {
    "hash": "31f2aee4e71d21fbe5cf8b01ff0e069b9275f58929596ceb00d14d90e3e16cd6"
   }
  }
 },
 "nbformat": 4,
 "nbformat_minor": 2
}
