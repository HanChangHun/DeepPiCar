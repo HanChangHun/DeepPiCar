{
 "cells": [
  {
   "cell_type": "code",
   "execution_count": null,
   "metadata": {},
   "outputs": [],
   "source": [
    "import subprocess"
   ]
  },
  {
   "cell_type": "code",
   "execution_count": 18,
   "metadata": {},
   "outputs": [],
   "source": [
    "out_dir = \"experiments/obj_det_sram/models/zero\"\n",
    "\n",
    "dummy_model_path = \" /home/chun/workspaces/tpu/edgetpu-sram-master/models/dummy_model/i200_f20_l6.tflite\"\n",
    "\n",
    "cmd = f\"edgetpu_compiler -o {out_dir} \"\n",
    "for _ in range(107):\n",
    "    cmd += f\"{dummy_model_path} \"\n",
    "cmd += \"objects_on_road_processor/model/efficientdet_lite_0/efficientdet-lite.tflite \""
   ]
  },
  {
   "cell_type": "code",
   "execution_count": 19,
   "metadata": {},
   "outputs": [],
   "source": [
    "result = subprocess.check_output(cmd, shell=True)"
   ]
  },
  {
   "cell_type": "code",
   "execution_count": 20,
   "metadata": {},
   "outputs": [
    {
     "name": "stdout",
     "output_type": "stream",
     "text": [
      "Operation log: experiments/obj_det_sram/models/zero/i200_f20_l6_edgetpu.log\n",
      "See the operation log file for individual operation details.\n",
      "\n",
      "Input model: objects_on_road_processor/model/efficientdet_lite_0/efficientdet-lite.tflite\n",
      "Input size: 4.25MiB\n",
      "Output model: experiments/obj_det_sram/models/zero/efficientdet-lite_edgetpu.tflite\n",
      "Output size: 8.12MiB\n",
      "On-chip memory used for caching model parameters: 164.00KiB\n",
      "On-chip memory remaining for caching model parameters: 0.00B\n",
      "Off-chip memory used for streaming uncached model parameters: 6.56MiB\n",
      "Number of Edge TPU subgraphs: 1\n",
      "Total number of operations: 267\n",
      "Operation log: experiments/obj_det_sram/models/zero/efficientdet-lite_edgetpu.log\n",
      "\n",
      "Model successfully compiled but not all operations are supported by the Edge TPU. A percentage of the model will instead run on the CPU, which is slower. If possible, consider updating your model to use only operations supported by the Edge TPU. For details, visit g.co/coral/model-reqs.\n",
      "Number of operations that will run on Edge TPU: 264\n",
      "Number of operations that will run on CPU: 3\n",
      "See the operation log file for individual operation details.\n",
      "Compilation child process completed within timeout period.\n",
      "Compilation succeeded! \n"
     ]
    }
   ],
   "source": [
    "print(\"\\n\".join(result.decode(\"utf-8\").splitlines()[-20:]))\n"
   ]
  },
  {
   "cell_type": "code",
   "execution_count": null,
   "metadata": {},
   "outputs": [],
   "source": []
  }
 ],
 "metadata": {
  "kernelspec": {
   "display_name": "Python 3.8.10 ('tf_coral')",
   "language": "python",
   "name": "python3"
  },
  "language_info": {
   "codemirror_mode": {
    "name": "ipython",
    "version": 3
   },
   "file_extension": ".py",
   "mimetype": "text/x-python",
   "name": "python",
   "nbconvert_exporter": "python",
   "pygments_lexer": "ipython3",
   "version": "3.8.10"
  },
  "orig_nbformat": 4,
  "vscode": {
   "interpreter": {
    "hash": "8e580b60f987e95db69819612864f8b3d005128afc9e944213d639e2096143c2"
   }
  }
 },
 "nbformat": 4,
 "nbformat_minor": 2
}
