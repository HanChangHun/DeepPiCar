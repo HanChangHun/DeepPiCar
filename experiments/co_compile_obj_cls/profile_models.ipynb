{
 "cells": [
  {
   "cell_type": "code",
   "execution_count": 2,
   "metadata": {},
   "outputs": [],
   "source": [
    "import time\n",
    "\n",
    "import numpy as np\n",
    "\n",
    "from pycoral.utils.edgetpu import make_interpreter"
   ]
  },
  {
   "cell_type": "code",
   "execution_count": 3,
   "metadata": {},
   "outputs": [],
   "source": [
    "cls_model_path = \"experiments/co_compile_obj_cls/model/efficientnet-M_edgetpu.tflite\"\n",
    "cls_model2_path = \"experiments/co_compile_obj_cls/model/tfhub_tf2_resnet_50_imagenet_ptq_edgetpu.tflite\"\n",
    "det_model_path = \"experiments/co_compile_obj_cls/model/efficientdet-lite_edgetpu.tflite\""
   ]
  },
  {
   "cell_type": "code",
   "execution_count": 4,
   "metadata": {},
   "outputs": [],
   "source": [
    "cls_intp = make_interpreter(cls_model_path)\n",
    "cls_intp.allocate_tensors()\n",
    "cls2_intp = make_interpreter(cls_model2_path)\n",
    "cls2_intp.allocate_tensors()\n",
    "det_intp = make_interpreter(det_model_path)\n",
    "det_intp.allocate_tensors()\n"
   ]
  },
  {
   "cell_type": "code",
   "execution_count": 12,
   "metadata": {},
   "outputs": [
    {
     "name": "stdout",
     "output_type": "stream",
     "text": [
      "15.955004900042695 0.7445202857184285\n"
     ]
    }
   ],
   "source": [
    "cls_durs = []\n",
    "for _ in range(100):\n",
    "    st = time.perf_counter()\n",
    "    cls_intp.invoke()\n",
    "    dur = (time.perf_counter() - st) * 1000\n",
    "    cls_durs.append(dur)\n",
    "\n",
    "print(np.mean(cls_durs), np.std(cls_durs))"
   ]
  },
  {
   "cell_type": "code",
   "execution_count": 5,
   "metadata": {},
   "outputs": [
    {
     "name": "stdout",
     "output_type": "stream",
     "text": [
      "68.22361810987786 2.1449504541036704\n"
     ]
    }
   ],
   "source": [
    "cls_durs = []\n",
    "for _ in range(100):\n",
    "    st = time.perf_counter()\n",
    "    cls2_intp.invoke()\n",
    "    dur = (time.perf_counter() - st) * 1000\n",
    "    cls_durs.append(dur)\n",
    "\n",
    "print(np.mean(cls_durs), np.std(cls_durs))"
   ]
  },
  {
   "cell_type": "code",
   "execution_count": 6,
   "metadata": {},
   "outputs": [
    {
     "name": "stdout",
     "output_type": "stream",
     "text": [
      "52.4989718200959 4.552529071022282\n"
     ]
    }
   ],
   "source": [
    "det_durs = []\n",
    "for _ in range(100):\n",
    "    st = time.perf_counter()\n",
    "    det_intp.invoke()\n",
    "    dur = (time.perf_counter() - st) * 1000\n",
    "    det_durs.append(dur)\n",
    "\n",
    "print(np.mean(det_durs), np.std(det_durs))"
   ]
  }
 ],
 "metadata": {
  "kernelspec": {
   "display_name": "Python 3.7.3 32-bit",
   "language": "python",
   "name": "python3"
  },
  "language_info": {
   "codemirror_mode": {
    "name": "ipython",
    "version": 3
   },
   "file_extension": ".py",
   "mimetype": "text/x-python",
   "name": "python",
   "nbconvert_exporter": "python",
   "pygments_lexer": "ipython3",
   "version": "3.7.3"
  },
  "orig_nbformat": 4,
  "vscode": {
   "interpreter": {
    "hash": "31f2aee4e71d21fbe5cf8b01ff0e069b9275f58929596ceb00d14d90e3e16cd6"
   }
  }
 },
 "nbformat": 4,
 "nbformat_minor": 2
}
